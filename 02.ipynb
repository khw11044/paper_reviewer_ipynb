{
 "cells": [
  {
   "cell_type": "code",
   "execution_count": null,
   "metadata": {},
   "outputs": [],
   "source": [
    "import os \n",
    "import re\n",
    "import glob\n",
    "import streamlit as st\n",
    "import base64\n",
    "from markdownify import markdownify as markdown\n",
    "\n",
    "from utils.Classes import GraphState, LayoutAnalyzer\n",
    "from utils.funcs import *\n",
    "from utils.extracts import *\n",
    "from utils.crops import *\n",
    "from utils.creates import *\n",
    "from utils.save import save_results\n",
    "\n",
    "from utils.creates import create_text_trans_summary\n",
    "from utils.vectordb import build_db\n",
    "from utils.prompt import summary_prompt, map_prompt, trans_prompt\n",
    "\n",
    "\n",
    "from dotenv import load_dotenv\n",
    "load_dotenv()"
   ]
  },
  {
   "cell_type": "code",
   "execution_count": null,
   "metadata": {},
   "outputs": [],
   "source": [
    "OPENAI_API_KEY = os.environ.get(\"UPSTAGE_API_KEY\")"
   ]
  },
  {
   "cell_type": "code",
   "execution_count": null,
   "metadata": {},
   "outputs": [],
   "source": [
    "analyzer = LayoutAnalyzer(OPENAI_API_KEY)"
   ]
  }
 ],
 "metadata": {
  "kernelspec": {
   "display_name": "paper",
   "language": "python",
   "name": "python3"
  },
  "language_info": {
   "codemirror_mode": {
    "name": "ipython",
    "version": 3
   },
   "file_extension": ".py",
   "mimetype": "text/x-python",
   "name": "python",
   "nbconvert_exporter": "python",
   "pygments_lexer": "ipython3",
   "version": "3.11.11"
  }
 },
 "nbformat": 4,
 "nbformat_minor": 2
}
