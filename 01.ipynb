{
 "cells": [
  {
   "cell_type": "code",
   "execution_count": 1,
   "metadata": {},
   "outputs": [
    {
     "data": {
      "text/plain": [
       "True"
      ]
     },
     "execution_count": 1,
     "metadata": {},
     "output_type": "execute_result"
    }
   ],
   "source": [
    "import os \n",
    "import glob\n",
    "import streamlit as st\n",
    "import base64\n",
    "from utils.Classes import GraphState, LayoutAnalyzer\n",
    "from utils.funcs import *\n",
    "from utils.extracts import *\n",
    "from utils.crops import *\n",
    "from utils.creates import *\n",
    "from utils.save import save_results\n",
    "\n",
    "from utils.creates import create_text_trans_summary\n",
    "from utils.vectordb import build_db\n",
    "\n",
    "from utils.prompt import summary_prompt, map_prompt, trans_prompt\n",
    "\n",
    "from dotenv import load_dotenv\n",
    "load_dotenv()"
   ]
  },
  {
   "cell_type": "code",
   "execution_count": 2,
   "metadata": {},
   "outputs": [],
   "source": [
    "OPENAI_API_KEY = os.environ.get(\"UPSTAGE_API_KEY\")"
   ]
  },
  {
   "cell_type": "code",
   "execution_count": 3,
   "metadata": {},
   "outputs": [],
   "source": [
    "analyzer = LayoutAnalyzer(OPENAI_API_KEY)"
   ]
  },
  {
   "cell_type": "code",
   "execution_count": 4,
   "metadata": {},
   "outputs": [],
   "source": [
    "file_path = './papers/objectvla.pdf'"
   ]
  },
  {
   "cell_type": "code",
   "execution_count": 5,
   "metadata": {},
   "outputs": [],
   "source": [
    "\n",
    "state = GraphState(filepath=file_path, batch_size=10)"
   ]
  },
  {
   "cell_type": "code",
   "execution_count": 6,
   "metadata": {},
   "outputs": [
    {
     "name": "stdout",
     "output_type": "stream",
     "text": [
      "총 페이지 수: 11\n",
      "분할 PDF 생성: ./papers/objectvla_0000_0009.pdf\n",
      "분할 PDF 생성: ./papers/objectvla_0010_0010.pdf\n"
     ]
    }
   ],
   "source": [
    "split_file_list = split_pdf(state)"
   ]
  },
  {
   "cell_type": "code",
   "execution_count": 7,
   "metadata": {},
   "outputs": [
    {
     "data": {
      "text/plain": [
       "{'split_filepaths': ['./papers/objectvla_0000_0009.pdf',\n",
       "  './papers/objectvla_0010_0010.pdf']}"
      ]
     },
     "execution_count": 7,
     "metadata": {},
     "output_type": "execute_result"
    }
   ],
   "source": [
    "split_file_list"
   ]
  },
  {
   "cell_type": "code",
   "execution_count": 8,
   "metadata": {},
   "outputs": [],
   "source": [
    "# 그래프에 업데이트\n",
    "state.update(split_file_list)"
   ]
  },
  {
   "cell_type": "code",
   "execution_count": 9,
   "metadata": {},
   "outputs": [
    {
     "data": {
      "text/plain": [
       "{'filepath': './papers/objectvla.pdf',\n",
       " 'batch_size': 10,\n",
       " 'split_filepaths': ['./papers/objectvla_0000_0009.pdf',\n",
       "  './papers/objectvla_0010_0010.pdf']}"
      ]
     },
     "execution_count": 9,
     "metadata": {},
     "output_type": "execute_result"
    }
   ],
   "source": [
    "state"
   ]
  },
  {
   "cell_type": "markdown",
   "metadata": {},
   "source": [
    "# PDF 파일 분석"
   ]
  },
  {
   "cell_type": "code",
   "execution_count": 10,
   "metadata": {},
   "outputs": [],
   "source": [
    "# 1.1 문서 구조 분석기를 통해 기본 분석 결과 저장 \n",
    "# layour_analtzer가 분석한 결과 -> json\n",
    "state_out = analyze_layout(analyzer, state)\n",
    "state.update(state_out)"
   ]
  },
  {
   "cell_type": "code",
   "execution_count": 11,
   "metadata": {},
   "outputs": [
    {
     "data": {
      "text/plain": [
       "{'filepath': './papers/objectvla.pdf',\n",
       " 'batch_size': 10,\n",
       " 'split_filepaths': ['./papers/objectvla_0000_0009.pdf',\n",
       "  './papers/objectvla_0010_0010.pdf'],\n",
       " 'analyzed_files': ['./papers/objectvla_0000_0009.json',\n",
       "  './papers/objectvla_0010_0010.json']}"
      ]
     },
     "execution_count": 11,
     "metadata": {},
     "output_type": "execute_result"
    }
   ],
   "source": [
    "state"
   ]
  },
  {
   "cell_type": "code",
   "execution_count": 12,
   "metadata": {},
   "outputs": [],
   "source": [
    "# 1.2 문서에 대한 메타데이터 추출 \n",
    "# 논문 페이지 크기에 대한 파라메타 \n",
    "state_out = extract_page_metadata(state)\n",
    "state.update(state_out)"
   ]
  },
  {
   "cell_type": "code",
   "execution_count": 13,
   "metadata": {},
   "outputs": [
    {
     "data": {
      "text/plain": [
       "{'filepath': './papers/objectvla.pdf',\n",
       " 'batch_size': 10,\n",
       " 'split_filepaths': ['./papers/objectvla_0000_0009.pdf',\n",
       "  './papers/objectvla_0010_0010.pdf'],\n",
       " 'analyzed_files': ['./papers/objectvla_0000_0009.json',\n",
       "  './papers/objectvla_0010_0010.json'],\n",
       " 'page_metadata': {0: {'size': [1275, 1650]},\n",
       "  1: {'size': [1275, 1650]},\n",
       "  2: {'size': [1275, 1650]},\n",
       "  3: {'size': [1275, 1650]},\n",
       "  4: {'size': [1275, 1650]},\n",
       "  5: {'size': [1275, 1650]},\n",
       "  6: {'size': [1275, 1650]},\n",
       "  7: {'size': [1275, 1650]},\n",
       "  8: {'size': [1275, 1650]},\n",
       "  9: {'size': [1275, 1650]},\n",
       "  10: {'size': [1275, 1650]}}}"
      ]
     },
     "execution_count": 13,
     "metadata": {},
     "output_type": "execute_result"
    }
   ],
   "source": [
    "state"
   ]
  },
  {
   "cell_type": "code",
   "execution_count": 14,
   "metadata": {},
   "outputs": [],
   "source": [
    "# 1.3 문서 구조와 내용에 대한 html 내용 추출\n",
    "# 페이지별 정보를 추출 \n",
    "state_out = extract_page_elements(state)\n",
    "state.update(state_out)"
   ]
  },
  {
   "cell_type": "code",
   "execution_count": 15,
   "metadata": {},
   "outputs": [],
   "source": [
    "# 1.4 문서 요소 별 tag 추출\n",
    "state_out = extract_tag_elements_per_page(state)\n",
    "state.update(state_out)"
   ]
  },
  {
   "cell_type": "code",
   "execution_count": 16,
   "metadata": {},
   "outputs": [],
   "source": [
    "# 1.5 페이지 번호 추출 \n",
    "state_out = page_numbers(state)\n",
    "state.update(state_out)"
   ]
  },
  {
   "cell_type": "code",
   "execution_count": 17,
   "metadata": {},
   "outputs": [
    {
     "name": "stdout",
     "output_type": "stream",
     "text": [
      "page:0, id:3, path: ./papers/objectvla/3.png\n",
      "page:3, id:33, path: ./papers/objectvla/33.png\n",
      "page:4, id:47, path: ./papers/objectvla/47.png\n",
      "page:4, id:50, path: ./papers/objectvla/50.png\n",
      "page:4, id:59, path: ./papers/objectvla/59.png\n",
      "page:4, id:63, path: ./papers/objectvla/63.png\n",
      "page:5, id:71, path: ./papers/objectvla/71.png\n",
      "page:10, id:121, path: ./papers/objectvla/121.png\n",
      "page:10, id:123, path: ./papers/objectvla/123.png\n"
     ]
    }
   ],
   "source": [
    "# 2.1 이미지를 추출하여 저장하고 위치를 저장 \n",
    "state_out = crop_image(state)\n",
    "state.update(state_out)"
   ]
  },
  {
   "cell_type": "code",
   "execution_count": 18,
   "metadata": {},
   "outputs": [
    {
     "name": "stdout",
     "output_type": "stream",
     "text": [
      "page:5, id:76, path: ./papers/objectvla/76.png\n",
      "page:6, id:85, path: ./papers/objectvla/85.png\n"
     ]
    }
   ],
   "source": [
    "# 2.2 표를 추출하여 저장하고 위치를 저장 \n",
    "state_out = crop_table(state)\n",
    "state.update(state_out)"
   ]
  },
  {
   "cell_type": "code",
   "execution_count": 19,
   "metadata": {},
   "outputs": [],
   "source": [
    "# 2.3 수식을 추출하여 저장하고 위치를 저장 \n",
    "state_out = crop_equation(state)\n",
    "state.update(state_out)"
   ]
  },
  {
   "cell_type": "code",
   "execution_count": 20,
   "metadata": {},
   "outputs": [],
   "source": [
    "# 2.4 텍스트를 추출하고 저장하여 위치를 저장 \n",
    "state_out = extract_page_text(state)\n",
    "state.update(state_out)"
   ]
  },
  {
   "cell_type": "code",
   "execution_count": null,
   "metadata": {},
   "outputs": [
    {
     "name": "stdout",
     "output_type": "stream",
     "text": [
      "HTML 파일이 ./papers/objectvla/objectvla_1.html에 저장되었습니다.\n",
      "Markdown 파일이 ./papers/objectvla/objectvla_1.md에 저장되었습니다.\n"
     ]
    }
   ],
   "source": [
    "# pdf파일 이름과 같은 이름으로 마크다운 파일 저장\n",
    "\n",
    "pdf_file = state[\"filepath\"]  # PDF 파일 경로\n",
    "output_folder = os.path.splitext(pdf_file)[0]  # 출력 폴더 경로 설정\n",
    "filename = os.path.basename(pdf_file).split('.')[0]\n",
    "\n",
    "md_output_file1 = save_results(output_folder, filename, state['html_content'])"
   ]
  },
  {
   "cell_type": "code",
   "execution_count": 22,
   "metadata": {},
   "outputs": [
    {
     "data": {
      "text/plain": [
       "'./papers/objectvla/objectvla_1.md'"
      ]
     },
     "execution_count": 22,
     "metadata": {},
     "output_type": "execute_result"
    }
   ],
   "source": [
    "md_output_file1"
   ]
  },
  {
   "cell_type": "markdown",
   "metadata": {},
   "source": [
    "# 생성 \n",
    "- 번역 \n",
    "- 요약"
   ]
  },
  {
   "cell_type": "code",
   "execution_count": 23,
   "metadata": {},
   "outputs": [],
   "source": [
    "selected_model = 'gpt-4o-mini'"
   ]
  },
  {
   "cell_type": "code",
   "execution_count": 24,
   "metadata": {},
   "outputs": [],
   "source": [
    "text_summary_chain = get_chain(selected_model, summary_prompt)\n",
    "paper_summary_chain = get_chain(selected_model, map_prompt)\n",
    "trans_chain = get_translator(selected_model, trans_prompt)"
   ]
  },
  {
   "cell_type": "code",
   "execution_count": 25,
   "metadata": {},
   "outputs": [],
   "source": [
    "# 텍스트 요약 생성\n",
    "\n",
    "state_out = create_text_summary(text_summary_chain, state)\n",
    "state.update(state_out)\n",
    "\n",
    "\n",
    "state_out = map_reduce_summary(paper_summary_chain, state)\n",
    "state.update(state_out)\n",
    "\n",
    "# 번역\n",
    "trans_chain = get_translator(selected_model, trans_prompt)\n",
    "state_out = create_text_trans_summary(trans_chain, state)\n",
    "\n"
   ]
  },
  {
   "cell_type": "code",
   "execution_count": 26,
   "metadata": {},
   "outputs": [],
   "source": [
    "# Image 요약 생성 \n",
    "state_out = create_image_summary_data_batches(state)\n",
    "state.update(state_out)\n",
    "\n",
    "state_out = create_image_summary(state)\n",
    "state.update(state_out)"
   ]
  },
  {
   "cell_type": "code",
   "execution_count": 27,
   "metadata": {},
   "outputs": [],
   "source": [
    "# Table 요약 생성 \n",
    "state_out = create_table_summary_data_batches(state)\n",
    "state.update(state_out)\n",
    "\n",
    "\n",
    "state_out = create_table_summary(state)\n",
    "state.update(state_out)"
   ]
  },
  {
   "cell_type": "code",
   "execution_count": 28,
   "metadata": {},
   "outputs": [],
   "source": [
    "# Equation 요약 생성 \n",
    "state_out = create_equation_summary_data_batches(state)\n",
    "state.update(state_out)\n",
    "\n",
    "state_out = create_equation_summary(state)\n",
    "state.update(state_out)"
   ]
  },
  {
   "cell_type": "code",
   "execution_count": 29,
   "metadata": {},
   "outputs": [],
   "source": [
    "# 4 표를 다시 마크다운 표 생성 \n",
    "state_out = create_table_markdown(state)\n",
    "state.update(state_out)"
   ]
  },
  {
   "cell_type": "code",
   "execution_count": 30,
   "metadata": {},
   "outputs": [],
   "source": [
    "# 수식 이미지 처리\n",
    "\n",
    "cnt = 1\n",
    "for key, value in state['equation_summary'].items():\n",
    "    equation_html = f\"<p id='{key}_1' data-category='equation' style='font-size:14px'>{value}</p>\"\n",
    "    state['html_content'].insert(cnt+int(key), equation_html)\n",
    "    cnt+=1"
   ]
  },
  {
   "cell_type": "code",
   "execution_count": null,
   "metadata": {},
   "outputs": [
    {
     "name": "stdout",
     "output_type": "stream",
     "text": [
      "HTML 파일이 ./papers/objectvla/objectvla_1_2.html에 저장되었습니다.\n",
      "Markdown 파일이 ./papers/objectvla/objectvla_1_2.md에 저장되었습니다.\n"
     ]
    }
   ],
   "source": [
    "# 생성 내용 분석 파일에 덮어써서 저장\n",
    "md_output_file = save_results(output_folder, filename, state['html_content'])"
   ]
  },
  {
   "cell_type": "code",
   "execution_count": 32,
   "metadata": {},
   "outputs": [],
   "source": [
    "\n",
    "output_file = '.'.join(file_path.split('.')[:-1]) + \"_analy.json\"    \n",
    "\n",
    "# pdf구조를 json으로 저장 \n",
    "with open(output_file, \"w\", encoding='utf-8') as file:\n",
    "    json.dump(state, file, ensure_ascii=False)\n",
    "\n",
    "# 분석 번역 요약 과정에서 생긴 json 파일 제거 \n",
    "for del_file in state['split_filepaths'] + state['analyzed_files']:\n",
    "    os.remove(del_file)\n",
    "    \n",
    "# 과정에서 생긴 html 파일 제거 \n",
    "# os.remove('.'.join(file_path.split('.')[:-1]) + f'/{filename}.html')"
   ]
  },
  {
   "cell_type": "code",
   "execution_count": null,
   "metadata": {},
   "outputs": [],
   "source": [
    "# vectordb 만들기 \n",
    "build_db(state)"
   ]
  },
  {
   "cell_type": "markdown",
   "metadata": {},
   "source": [
    "# 요약 내용 \n",
    "\n",
    "- 원본 요약 내용 \n",
    "- 한국어 요약 내용 \n",
    "\n",
    "구분해서 하자"
   ]
  },
  {
   "cell_type": "code",
   "execution_count": null,
   "metadata": {},
   "outputs": [],
   "source": []
  },
  {
   "cell_type": "markdown",
   "metadata": {},
   "source": [
    "# 번역 내용 "
   ]
  },
  {
   "cell_type": "code",
   "execution_count": null,
   "metadata": {},
   "outputs": [],
   "source": []
  },
  {
   "cell_type": "markdown",
   "metadata": {},
   "source": [
    "# 채팅하기"
   ]
  },
  {
   "cell_type": "markdown",
   "metadata": {},
   "source": []
  }
 ],
 "metadata": {
  "kernelspec": {
   "display_name": "paper",
   "language": "python",
   "name": "python3"
  },
  "language_info": {
   "codemirror_mode": {
    "name": "ipython",
    "version": 3
   },
   "file_extension": ".py",
   "mimetype": "text/x-python",
   "name": "python",
   "nbconvert_exporter": "python",
   "pygments_lexer": "ipython3",
   "version": "3.11.11"
  }
 },
 "nbformat": 4,
 "nbformat_minor": 2
}
